{
 "cells": [
  {
   "cell_type": "code",
   "execution_count": null,
   "id": "de011b27",
   "metadata": {},
   "outputs": [
    {
     "name": "stdout",
     "output_type": "stream",
     "text": [
      "Secuencia del gen: AGAGGAGGCTATGATTTTTGACAGACACTTCATT\n",
      "Codones: ['GAG', 'GAG', 'GCT', 'ATG', 'ATT', 'TTT', 'GAC', 'AGA', 'CAC', 'TTC', 'ATT']\n",
      "Codón de paro: False\n",
      "Contendo de GC: 38.23529411764706%\n"
     ]
    }
   ],
   "source": [
    "import random\n",
    "\n",
    "class gen():\n",
    "    # Constructor\n",
    "    def __init__(self, inicio, fin, secuencia, organismo, funcion='desconocida') -> None:\n",
    "        self.longitud = fin - inicio + 1 # Por slicing en python\n",
    "        self.inicio = inicio\n",
    "        self.fin = fin\n",
    "        self.secuencia = secuencia.strip().upper() # todo en mayúsculas\n",
    "        self.organismo = organismo\n",
    "        self.funcion = funcion\n",
    "\n",
    "    def codones(self, marco=1) -> list: # 1-3. 1 por default\n",
    "        return [self.secuencia[i:i+3] for i in range(marco - 1, len(self.secuencia)-2, 3)] # -2 para que siempre regrese codones completos\n",
    "\n",
    "    def codon_paro(self, codones_seq) -> bool:\n",
    "        return any(codon in (codones_paro := ['UGA', 'UAG', 'UAA', 'TGA', 'TAG', 'TAA']) for codon in codones_seq) # si coinciden con alguno, sea DNA o RNA\n",
    "    \n",
    "    def contenido_gc(self, seq) -> float: # No usé el self.secuencia porque más adelante me conviene manejarlo de esta forma (en tRNA)\n",
    "        return 100 * (seq.count('G') + seq.count('C')) / len(seq) # En porcentaje\n",
    "\n",
    "    def longitud_seq(self, )\n",
    "    \n",
    "\n",
    "\n",
    "def hacer_seq() -> str:\n",
    "    return ''.join(random.choice(['A', 'T', 'C', 'G']) for _ in range(34))\n",
    "\n",
    "gen_prueba = gen(322, 456, (hacer_seq()), 'Humano')\n",
    "\n",
    "codones_seq = gen_prueba.codones(2)\n",
    "print(f'Secuencia del gen: {(seq := gen_prueba.secuencia)}\\nCodones: {codones_seq}') # Segundo marco de lectura\n",
    "print(f'Codón de paro: {gen_prueba.codon_paro(codones_seq)}\\nContendo de GC: {gen_prueba.contenido_gc(seq)}%')"
   ]
  },
  {
   "cell_type": "markdown",
   "id": "a8456e83",
   "metadata": {},
   "source": [
    "### tRNA"
   ]
  },
  {
   "cell_type": "code",
   "execution_count": 119,
   "id": "ed14e084",
   "metadata": {},
   "outputs": [],
   "source": [
    "# Subclase ---> Ejercicio Herencia\n",
    "class tRNA(gen):\n",
    "    def __init__(self, anticodon, organismo='Desconocido') -> None:\n",
    "        super().__init__(inicio=0, fin=len(anticodon) - 1, secuencia=anticodon, organismo=organismo)\n",
    "        self.anticodon = anticodon\n",
    "        self.aminoacido = None\n",
    "        self.carga = False\n",
    "\n",
    "    # Aquí está la función del ejercicio 4 de polimorfismo\n",
    "    def len_seq(self) -> int:\n",
    "        return len(self.secuencia)\n",
    "    \n",
    "    def generar_codon(self) -> str:\n",
    "        bases_comp = {'A':'U','U':'A','C':'G','G':'C','T':'A'} # Tanto RNA como DNA, pero el resultado siempre en RNA\n",
    "        return ''.join([bases_comp[base] for base in self.anticodon.strip().upper()])\n",
    "\n",
    "    def identificar_aa(self, codon) -> str:\n",
    "        codigo_genetico = {\n",
    "            'F': ['UUU', 'UUC'], # Fenilalanina\n",
    "            'L': ['UUA', 'UUG', 'CUU', 'CUC', 'CUA', 'CUG'], # Leucina\n",
    "            'I': ['AUU', 'AUC', 'AUA'], # Isoleucina\n",
    "            'M': ['AUG'], # Metionina (Inicio)\n",
    "            'V': ['GUU', 'GUC', 'GUA', 'GUG'], # Valina\n",
    "            'S': ['UCU', 'UCC', 'UCA', 'UCG', 'AGU', 'AGC'], # Serina\n",
    "            'P': ['CCU', 'CCC', 'CCA', 'CCG'], # Prolina\n",
    "            'T': ['ACU', 'ACC', 'ACA', 'ACG'], # Treonina\n",
    "            'A': ['GCU', 'GCC', 'GCA', 'GCG'], # Alanina\n",
    "            'Y': ['UAU', 'UAC'], # Tirosina\n",
    "            'H': ['CAU', 'CAC'], # Histidina\n",
    "            'Q': ['CAA', 'CAG'], # Glutamina\n",
    "            'N': ['AAU', 'AAC'], # Asparagina\n",
    "            'K': ['AAA', 'AAG'], # Lisina\n",
    "            'D': ['GAU', 'GAC'], # Ácido aspártico\n",
    "            'E': ['GAA', 'GAG'], # Ácido glutámico\n",
    "            'C': ['UGU', 'UGC'], # Cisteína\n",
    "            'W': ['UGG'], # Triptófano\n",
    "            'R': ['CGU', 'CGC', 'CGA', 'CGG', 'AGA', 'AGG'], # Arginina\n",
    "            'G': ['GGU', 'GGC', 'GGA', 'GGG'], # Glicina\n",
    "            '-STOP-': ['UAA', 'UAG', 'UGA'] # Codones de paro\n",
    "        }\n",
    "        for aa, codones in codigo_genetico.items():\n",
    "            if codon in codones:\n",
    "                self.carga = True\n",
    "                return aa # Aminoácido asociado\n",
    "        return None\n",
    "\n",
    "    def descargar(self):\n",
    "        self.carga = False   "
   ]
  },
  {
   "cell_type": "code",
   "execution_count": 120,
   "id": "8b0ab590",
   "metadata": {},
   "outputs": [
    {
     "name": "stdout",
     "output_type": "stream",
     "text": [
      "Anticodón (3 bases) del tRNA: UGC\n",
      "Organismo: Desconocido\n",
      "Contenido de GC (si tuviera sentido): 66.66666666666667%\n",
      "Aminoacido asociado: T\n",
      "Carga: True\n"
     ]
    }
   ],
   "source": [
    "trna = tRNA('UGC')\n",
    "print(f'Anticodón ({trna.len_seq()} bases) del tRNA: {trna.anticodon}\\nOrganismo: {trna.organismo}\\nContenido de GC (si tuviera sentido): {trna.contenido_gc(codon := trna.generar_codon())}%\\nAminoacido asociado: {trna.identificar_aa(codon)}\\nCarga: {trna.carga}')"
   ]
  },
  {
   "cell_type": "markdown",
   "id": "0f7eec92",
   "metadata": {},
   "source": [
    "#### Subclase Proteína"
   ]
  },
  {
   "cell_type": "code",
   "execution_count": 131,
   "id": "bae75625",
   "metadata": {},
   "outputs": [],
   "source": [
    "# Siento que es un poco inverosímil usar herencia en este contexto de tRNAs y proteínas, pero sería algo así:\n",
    "\n",
    "class Proteina(tRNA):\n",
    "    # Aprovechamos que hereda una función para separar secuencias en tripletes, y otra que los asocia con aminoácidos\n",
    "    def __init__(self, secuencia, organismo='desconocido', funcion='desconocida') -> None: # Recordar que la secuenci debe ser de RNA\n",
    "        gen.__init__(self, inicio=0, fin=len(secuencia)-1, secuencia=secuencia.replace('T','U'), organismo=organismo, funcion=funcion) # específicamente la clase gen\n",
    "        self.seq_aa = None\n",
    "        \n",
    "    def traducir(self, marco=1) -> str:\n",
    "        seq_aa = ''\n",
    "        for codon in (codones := self.codones(marco)):\n",
    "            seq_aa += self.identificar_aa(codon) # Añade cada Aminoácido en single letter code\n",
    "        self.seq_aa = seq_aa # Lo guarda y lo regresa simplemente porque es más cómodo en el print\n",
    "        return seq_aa # Quise usar walrus aquí y no me dejó :(\n",
    "\n",
    "    # Ejercicio 4 ---> Polimorfismo\n",
    "    def len_seq(self) -> int:\n",
    "        return super().len_seq() , len(self.seq_aa.replace('-STOP-', '_')) # Para que no cuente los caracteres de más\n",
    "\n",
    "    def funcion_estimada(self) -> str:\n",
    "        funciones_por_longitud = { # todo esto es hipotético y obviamente no refleja un metodo de estimación de función real...\n",
    "            (0, 50): 'péptido señal o regulador pequeño', # tuplas, que son iterables\n",
    "            (51, 150): 'enzima pequeña o factor de unión a DNA/RNA',\n",
    "            (151, 300): 'enzima típica, proteína estructural',\n",
    "            (301, 500): 'proteína multimérica o complejo enzimático',\n",
    "            (501, 1000): 'proteína grande, receptor o transportador',\n",
    "            (1001, 5000): 'proteína gigante, complejo molecular, motor molecular'\n",
    "        }\n",
    "\n",
    "        for rango, funcion in funciones_por_longitud.items():\n",
    "            if rango[0] <= (len_seq := len(self.seq_aa)) and rango[1] >= len_seq:\n",
    "                return funcion\n",
    "        return None # Si acabó y nunca estuvo en rango"
   ]
  },
  {
   "cell_type": "code",
   "execution_count": 132,
   "id": "3bdfe9ec",
   "metadata": {},
   "outputs": [],
   "source": [
    "beta_hemoglobina = Proteina('AUGGAUGAGAGAAUUAAGGAUGAAUGAUGAUGAUGAUAUAUGAGAUAUGAAAUUGAGAUUGAGAGGUAUUGAUAUUUAGGAGAGUUUUUUUUAGAGAGGAUAGUAGUUGAUGAUGAAUGAUGAUG', 'humano')"
   ]
  },
  {
   "cell_type": "code",
   "execution_count": 133,
   "id": "14b723e9",
   "metadata": {},
   "outputs": [
    {
     "name": "stdout",
     "output_type": "stream",
     "text": [
      "La beta-hemoglobina, del humano, hasta ahora, tiene una función desconocida\n"
     ]
    }
   ],
   "source": [
    "# Antes de usar los métodos\n",
    "print(f'La beta-hemoglobina, del {beta_hemoglobina.organismo}, hasta ahora, tiene una función {beta_hemoglobina.funcion}')"
   ]
  },
  {
   "cell_type": "code",
   "execution_count": 135,
   "id": "3a7990b3",
   "metadata": {},
   "outputs": [],
   "source": [
    "seq_aa = beta_hemoglobina.traducir()\n",
    "len_nt, len_aa = beta_hemoglobina.len_seq() # Aquí se ve la función, que ahora regresa ambos"
   ]
  },
  {
   "cell_type": "code",
   "execution_count": 136,
   "id": "9a318021",
   "metadata": {},
   "outputs": [
    {
     "name": "stdout",
     "output_type": "stream",
     "text": [
      "Asimismo, la secuencia de aminoácidos de la proteína es:\n",
      "MDERIKDE-STOP--STOP--STOP--STOP-YMRYEIEIERY-STOP-YLGEFFLERIVVDDE-STOP--STOP-\n",
      "Con base en su longitud de 125 nucleótidos, y 41 aminoácidos, su función putativa es ser enzima pequeña o factor de unión a DNA/RNA\n"
     ]
    }
   ],
   "source": [
    "print(f'Asimismo, la secuencia de aminoácidos de la proteína es:\\n{seq_aa}\\nCon base en su longitud de {len_nt} nucleótidos, y {len_aa} aminoácidos, su función putativa es ser {beta_hemoglobina.funcion_estimada()}')"
   ]
  },
  {
   "cell_type": "markdown",
   "id": "1c08b590",
   "metadata": {},
   "source": [
    "### ncRNA"
   ]
  },
  {
   "cell_type": "code",
   "execution_count": 99,
   "id": "922f4411",
   "metadata": {},
   "outputs": [],
   "source": [
    "import pandas as pd"
   ]
  },
  {
   "cell_type": "code",
   "execution_count": 117,
   "id": "4a1f7f1b",
   "metadata": {},
   "outputs": [],
   "source": [
    "class ncRNA(gen):\n",
    "    def __init__(self, inicio, secuencia, organismo='Desconocido', tipo='Desconocido') -> None:\n",
    "        super().__init__(inicio=inicio, fin=len(secuencia) - 1, secuencia=secuencia.replace('T','U'), organismo=organismo, funcion='ncRNA')\n",
    "        self.tipo = tipo # miRNA, siRNA, lncRNA, snRNA, etc...\n",
    "        self.len_seq = self.fin + 1\n",
    "        self.contenido_gc = self.contenido_gc(self.secuencia)\n",
    "\n",
    "    def puntuar(self, tipo, info, atributo, score) -> int:\n",
    "        cantidad = self.len_seq if atributo == 'len' else self.contenido_gc\n",
    "        return score if cantidad >= info[atributo][0] and cantidad <= info[atributo][1] else 0\n",
    "\n",
    "    def predecir_tipo(self) -> str:\n",
    "\n",
    "        heuristica = { # Pensadas con base en la longitud de la secuencia y su contenido de GC ---> No es biológicamente preciso...\n",
    "            'miRNA': {'len': (18, 25), 'gc': (40, 60)},\n",
    "            'siRNA': {'len': (20, 25), 'gc': (30, 55)},\n",
    "            'piRNA': {'len': (24, 31), 'gc': (30, 60)},\n",
    "            'snoRNA': {'len': (60, 200), 'gc': (45, 65)},\n",
    "            'snRNA': {'len': (100, 300), 'gc': (45, 65)},\n",
    "            'lncRNA': {'len': (200, 10**9), 'gc': (0, 100)},\n",
    "            'rRNA': {'len': (1000, 10**9), 'gc': (40, 65)}\n",
    "        }\n",
    "        # Convertir a DataFrame para mejor manejo\n",
    "        df_heuristica = pd.DataFrame.from_dict(heuristica, orient=\"index\")\n",
    "\n",
    "        # Sistema de puntuación ---> 2 puntos si coincide con el rango, 1 si coincide con el %GC\n",
    "        for tipo, info in df_heuristica.iterrows():\n",
    "            score = 0\n",
    "            score += self.puntuar(tipo, info, 'len', 2)\n",
    "            score += self.puntuar(tipo, info, 'gc', 1)\n",
    "            df_heuristica.loc[tipo, 'score'] = score\n",
    "        \n",
    "        return df_heuristica.score.idxmax(), df_heuristica.score.max()"
   ]
  },
  {
   "cell_type": "code",
   "execution_count": 118,
   "id": "47ca3a3d",
   "metadata": {},
   "outputs": [
    {
     "name": "stdout",
     "output_type": "stream",
     "text": [
      "El non-coding RNA de longitud 22 y %GC 40.90909090909091, con un score de 3.0, es putativamente un miRNA\n"
     ]
    }
   ],
   "source": [
    "miRNA = ncRNA(220, 'GCUUAGGAUAAAUCUAGAGCCU')\n",
    "tipo, score = miRNA.predecir_tipo()\n",
    "print(f'El non-coding RNA de longitud {miRNA.len_seq} y %GC {miRNA.contenido_gc}, con un score de {score}, es putativamente un {tipo}')"
   ]
  }
 ],
 "metadata": {
  "kernelspec": {
   "display_name": "systems",
   "language": "python",
   "name": "python3"
  },
  "language_info": {
   "codemirror_mode": {
    "name": "ipython",
    "version": 3
   },
   "file_extension": ".py",
   "mimetype": "text/x-python",
   "name": "python",
   "nbconvert_exporter": "python",
   "pygments_lexer": "ipython3",
   "version": "3.11.13"
  }
 },
 "nbformat": 4,
 "nbformat_minor": 5
}
